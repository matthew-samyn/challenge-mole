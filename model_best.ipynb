{
 "cells": [
  {
   "cell_type": "code",
   "execution_count": 1,
   "metadata": {
    "collapsed": false,
    "jupyter": {
     "outputs_hidden": false
    },
    "pycharm": {
     "name": "#%%\n"
    }
   },
   "outputs": [
    {
     "data": {
      "text/plain": "<Figure size 432x1080 with 1 Axes>",
      "image/png": "[encoded data removed]"
     },
     "metadata": {
      "needs_background": "light"
     },
     "output_type": "display_data"
    }
   ],
   "source": [
    "import tensorflow as tf\n",
    "from tensorflow import keras\n",
    "from tensorflow.keras.preprocessing import image\n",
    "import numpy as np\n",
    "from tensorflow.keras.preprocessing.image import ImageDataGenerator\n",
    "from keras import Sequential\n",
    "from keras.layers import Dense\n",
    "from keras.layers import Flatten, Dropout, Normalization\n",
    "from keras.models import Model\n",
    "from tensorflow.keras.metrics import categorical_crossentropy\n",
    "from tensorflow.keras.losses import CategoricalCrossentropy\n",
    "from tensorflow.keras.optimizers import Adam\n",
    "from keras.callbacks import ReduceLROnPlateau, EarlyStopping, ModelCheckpoint\n",
    "from keras.models import load_model\n",
    "from utils.functions import *\n",
    "from sklearn.metrics import classification_report\n",
    "from sklearn.model_selection import cross_val_score\n",
    "from sklearn.metrics import confusion_matrix"
   ]
  },
  {
   "cell_type": "code",
   "execution_count": 2,
   "metadata": {
    "collapsed": false,
    "jupyter": {
     "outputs_hidden": false
    },
    "pycharm": {
     "name": "#%%\n"
    }
   },
   "outputs": [
    {
     "name": "stdout",
     "output_type": "stream",
     "text": [
      "NUM GPUs Available:  1\n"
     ]
    }
   ],
   "source": [
    "physical_devices = tf.config.experimental.list_physical_devices(\"GPU\")\n",
    "print(\"NUM GPUs Available: \", len(physical_devices))\n",
    "tf.config.experimental.set_memory_growth(physical_devices[0], True)"
   ]
  },
  {
   "cell_type": "code",
   "execution_count": 3,
   "metadata": {
    "collapsed": false,
    "jupyter": {
     "outputs_hidden": false
    },
    "pycharm": {
     "name": "#%%\n"
    }
   },
   "outputs": [],
   "source": [
    "from tensorflow.keras.applications import MobileNetV2\n",
    "from keras.applications.resnet import preprocess_input\n",
    "\n",
    "model = MobileNetV2(include_top=False, input_shape=(112, 112,3),\n",
    "                 pooling=\"avg\",weights=None)\n",
    "model_name = \"MobileNetV2\""
   ]
  },
  {
   "cell_type": "code",
   "execution_count": 4,
   "metadata": {
    "collapsed": false,
    "jupyter": {
     "outputs_hidden": false
    },
    "pycharm": {
     "name": "#%%\n"
    }
   },
   "outputs": [],
   "source": [
    "train_path = \"data/train\"\n",
    "test_path = \"data/test\"\n",
    "labels = {\"akiec\":0, \"bcc\":1, \"bkl\":2, \"df\":3, \"mel\":4, \"nv\":5, \"vasc\":6}\n",
    "classes = list(labels.keys())\n",
    "size = (112,112)"
   ]
  },
  {
   "cell_type": "code",
   "execution_count": 5,
   "metadata": {
    "collapsed": false,
    "jupyter": {
     "outputs_hidden": false
    },
    "pycharm": {
     "name": "#%%\n"
    }
   },
   "outputs": [
    {
     "name": "stdout",
     "output_type": "stream",
     "text": [
      "Found 7213 images belonging to 7 classes.\n",
      "Found 799 images belonging to 7 classes.\n",
      "Found 2003 images belonging to 7 classes.\n"
     ]
    }
   ],
   "source": [
    "model_generator = ImageDataGenerator(preprocessing_function=preprocess_input, rotation_range = 40,\n",
    "                                        width_shift_range = 0.2, height_shift_range = 0.2, rescale = 1./255,\n",
    "                                        shear_range = 0.2, zoom_range = 0.2, horizontal_flip = True,\n",
    "                                        validation_split=.1)\n",
    "\n",
    "train_batches = model_generator.flow_from_directory(train_path,target_size=size,classes=classes,\n",
    "                                                batch_size=100, shuffle=True, subset=\"training\")\n",
    "validation_batches = model_generator.flow_from_directory(train_path,size,classes=classes,\n",
    "                                                batch_size=40, shuffle=True, subset=\"validation\")\n",
    "test_batches = ImageDataGenerator(preprocessing_function=preprocess_input)\\\n",
    "    .flow_from_directory(test_path,size,classes=classes, batch_size=10, shuffle=False)"
   ]
  },
  {
   "cell_type": "code",
   "execution_count": 6,
   "metadata": {
    "collapsed": false,
    "jupyter": {
     "outputs_hidden": false
    },
    "pycharm": {
     "name": "#%%\n"
    }
   },
   "outputs": [],
   "source": [
    "flat1 = Flatten()(model.layers[-1].output)\n",
    "class1 = Dense(2000, activation=\"relu\")(flat1)\n",
    "class2 = Dropout(rate=.5)(class1)\n",
    "class3 = Dense(1000, activation=\"relu\")(class2)\n",
    "class4 = Dropout(rate=.3)(class3)\n",
    "class5 = Dense(500, activation=\"relu\")(class4)\n",
    "# class6 = Dropout(rate=.2)(class5)\n",
    "output = Dense(7, activation=\"softmax\")(class5)\n",
    "model = Model(inputs=model.inputs, outputs=output)"
   ]
  },
  {
   "cell_type": "code",
   "execution_count": 7,
   "metadata": {
    "collapsed": false,
    "jupyter": {
     "outputs_hidden": false
    },
    "pycharm": {
     "name": "#%%\n"
    }
   },
   "outputs": [],
   "source": [
    "learning_rate = 0.06\n",
    "optimizer = Adam(learning_rate)\n",
    "loss = \"categorical_crossentropy\"\n",
    "metrics = \"accuracy\"\n",
    "\n",
    "model.compile(optimizer=optimizer, loss=loss, metrics=metrics)"
   ]
  },
  {
   "cell_type": "code",
   "execution_count": 8,
   "metadata": {
    "collapsed": false,
    "jupyter": {
     "outputs_hidden": false
    },
    "pycharm": {
     "name": "#%%\n"
    }
   },
   "outputs": [],
   "source": [
    "es = EarlyStopping(monitor='val_loss', mode='min', verbose=1, patience=50)\n",
    "mc = ModelCheckpoint('deployment/models/'+model_name+'_training_{accuracy:.4f}_{val_accuracy:.4f}.h5',\n",
    "                     monitor='val_accuracy', mode='max', verbose=1,\n",
    "                     save_best_only=True)\n",
    "lrl = ReduceLROnPlateau(patience=10,verbose=1,monitor=\"loss\")"
   ]
  },
  {
   "cell_type": "code",
   "execution_count": null,
   "metadata": {
    "collapsed": false,
    "jupyter": {
     "outputs_hidden": false
    },
    "pycharm": {
     "name": "#%%\n",
     "is_executing": true
    }
   },
   "outputs": [
    {
     "name": "stdout",
     "output_type": "stream",
     "text": [
      "Epoch 1/500\n",
      "73/73 - 55s - loss: 3150.6775 - accuracy: 0.6020 - val_loss: 5785.1606 - val_accuracy: 0.6708\n",
      "\n",
      "Epoch 00001: val_accuracy improved from -inf to 0.67084, saving model to deployment/models\\MobileNetV2_training_0.6020_0.6708.h5\n"
     ]
    },
    {
     "name": "stderr",
     "output_type": "stream",
     "text": [
      "C:\\ProgramData\\Anaconda3\\envs\\tensorflowRELOADED\\lib\\site-packages\\keras\\utils\\generic_utils.py:494: CustomMaskWarning: Custom mask layers require a config and must override get_config. When loading, the custom mask layer must be passed to the custom_objects argument.\n",
      "  warnings.warn('Custom mask layers require a config and must override '\n"
     ]
    },
    {
     "name": "stdout",
     "output_type": "stream",
     "text": [
      "Epoch 2/500\n",
      "73/73 - 47s - loss: 81.4787 - accuracy: 0.6621 - val_loss: 1.1459 - val_accuracy: 0.6708\n",
      "\n",
      "Epoch 00002: val_accuracy did not improve from 0.67084\n",
      "Epoch 3/500\n",
      "73/73 - 48s - loss: 1.7307 - accuracy: 0.6684 - val_loss: 1.1296 - val_accuracy: 0.6708\n",
      "\n",
      "Epoch 00003: val_accuracy did not improve from 0.67084\n",
      "Epoch 4/500\n",
      "73/73 - 47s - loss: 1.6129 - accuracy: 0.6687 - val_loss: 1.1277 - val_accuracy: 0.6708\n",
      "\n",
      "Epoch 00004: val_accuracy did not improve from 0.67084\n",
      "Epoch 5/500\n",
      "73/73 - 45s - loss: 1.1381 - accuracy: 0.6691 - val_loss: 1.1281 - val_accuracy: 0.6708\n",
      "\n",
      "Epoch 00005: val_accuracy did not improve from 0.67084\n",
      "Epoch 6/500\n",
      "73/73 - 45s - loss: 1.1349 - accuracy: 0.6692 - val_loss: 1.1282 - val_accuracy: 0.6708\n",
      "\n",
      "Epoch 00006: val_accuracy did not improve from 0.67084\n",
      "Epoch 7/500\n",
      "73/73 - 45s - loss: 1.1335 - accuracy: 0.6693 - val_loss: 1.1278 - val_accuracy: 0.6708\n",
      "\n",
      "Epoch 00007: val_accuracy did not improve from 0.67084\n",
      "Epoch 8/500\n",
      "73/73 - 45s - loss: 1.1634 - accuracy: 0.6692 - val_loss: 1.1281 - val_accuracy: 0.6708\n",
      "\n",
      "Epoch 00008: val_accuracy did not improve from 0.67084\n",
      "Epoch 9/500\n",
      "73/73 - 45s - loss: 1.1336 - accuracy: 0.6693 - val_loss: 1.1322 - val_accuracy: 0.6708\n",
      "\n",
      "Epoch 00009: val_accuracy did not improve from 0.67084\n",
      "Epoch 10/500\n",
      "73/73 - 45s - loss: 1.2189 - accuracy: 0.6682 - val_loss: 1.1278 - val_accuracy: 0.6708\n",
      "\n",
      "Epoch 00010: val_accuracy did not improve from 0.67084\n",
      "Epoch 11/500\n",
      "73/73 - 45s - loss: 1.1378 - accuracy: 0.6691 - val_loss: 1.1289 - val_accuracy: 0.6708\n",
      "\n",
      "Epoch 00011: val_accuracy did not improve from 0.67084\n",
      "Epoch 12/500\n",
      "73/73 - 45s - loss: 1.1392 - accuracy: 0.6691 - val_loss: 1.1280 - val_accuracy: 0.6708\n",
      "\n",
      "Epoch 00012: val_accuracy did not improve from 0.67084\n",
      "Epoch 13/500\n",
      "73/73 - 45s - loss: 1.1458 - accuracy: 0.6692 - val_loss: 1.1277 - val_accuracy: 0.6708\n",
      "\n",
      "Epoch 00013: val_accuracy did not improve from 0.67084\n",
      "Epoch 14/500\n",
      "73/73 - 45s - loss: 1.1331 - accuracy: 0.6693 - val_loss: 1.1281 - val_accuracy: 0.6708\n",
      "\n",
      "Epoch 00014: val_accuracy did not improve from 0.67084\n",
      "Epoch 15/500\n",
      "73/73 - 45s - loss: 1.1369 - accuracy: 0.6691 - val_loss: 1.1278 - val_accuracy: 0.6708\n",
      "\n",
      "Epoch 00015: val_accuracy did not improve from 0.67084\n",
      "Epoch 16/500\n",
      "73/73 - 45s - loss: 1.1344 - accuracy: 0.6693 - val_loss: 1.1284 - val_accuracy: 0.6708\n",
      "\n",
      "Epoch 00016: val_accuracy did not improve from 0.67084\n",
      "Epoch 17/500\n",
      "73/73 - 45s - loss: 1.1343 - accuracy: 0.6693 - val_loss: 1.1277 - val_accuracy: 0.6708\n",
      "\n",
      "Epoch 00017: val_accuracy did not improve from 0.67084\n",
      "Epoch 18/500\n",
      "73/73 - 45s - loss: 1.1347 - accuracy: 0.6693 - val_loss: 1.1274 - val_accuracy: 0.6708\n",
      "\n",
      "Epoch 00018: val_accuracy did not improve from 0.67084\n",
      "Epoch 19/500\n",
      "73/73 - 45s - loss: 1.1348 - accuracy: 0.6693 - val_loss: 1.1288 - val_accuracy: 0.6708\n",
      "\n",
      "Epoch 00019: val_accuracy did not improve from 0.67084\n",
      "Epoch 20/500\n",
      "73/73 - 45s - loss: 1.1346 - accuracy: 0.6693 - val_loss: 1.1276 - val_accuracy: 0.6708\n",
      "\n",
      "Epoch 00020: val_accuracy did not improve from 0.67084\n",
      "Epoch 21/500\n",
      "73/73 - 45s - loss: 1.1344 - accuracy: 0.6693 - val_loss: 1.1276 - val_accuracy: 0.6708\n",
      "\n",
      "Epoch 00021: val_accuracy did not improve from 0.67084\n",
      "Epoch 22/500\n",
      "73/73 - 45s - loss: 1.1335 - accuracy: 0.6693 - val_loss: 1.1285 - val_accuracy: 0.6708\n",
      "\n",
      "Epoch 00022: val_accuracy did not improve from 0.67084\n",
      "Epoch 23/500\n",
      "73/73 - 45s - loss: 1.1388 - accuracy: 0.6693 - val_loss: 1.1282 - val_accuracy: 0.6708\n",
      "\n",
      "Epoch 00023: val_accuracy did not improve from 0.67084\n",
      "Epoch 24/500\n",
      "73/73 - 45s - loss: 1.1338 - accuracy: 0.6693 - val_loss: 1.1285 - val_accuracy: 0.6708\n",
      "\n",
      "Epoch 00024: val_accuracy did not improve from 0.67084\n",
      "\n",
      "Epoch 00024: ReduceLROnPlateau reducing learning rate to 0.00599999986588955.\n",
      "Epoch 25/500\n",
      "73/73 - 46s - loss: 1.1324 - accuracy: 0.6693 - val_loss: 1.1274 - val_accuracy: 0.6708\n",
      "\n",
      "Epoch 00025: val_accuracy did not improve from 0.67084\n",
      "Epoch 26/500\n",
      "73/73 - 46s - loss: 1.1321 - accuracy: 0.6693 - val_loss: 1.1273 - val_accuracy: 0.6708\n",
      "\n",
      "Epoch 00026: val_accuracy did not improve from 0.67084\n",
      "Epoch 27/500\n",
      "73/73 - 46s - loss: 1.1320 - accuracy: 0.6693 - val_loss: 1.1273 - val_accuracy: 0.6708\n",
      "\n",
      "Epoch 00027: val_accuracy did not improve from 0.67084\n",
      "Epoch 28/500\n",
      "73/73 - 48s - loss: 1.1321 - accuracy: 0.6693 - val_loss: 1.1272 - val_accuracy: 0.6708\n",
      "\n",
      "Epoch 00028: val_accuracy did not improve from 0.67084\n",
      "Epoch 29/500\n",
      "73/73 - 48s - loss: 1.1322 - accuracy: 0.6692 - val_loss: 1.1272 - val_accuracy: 0.6708\n",
      "\n",
      "Epoch 00029: val_accuracy did not improve from 0.67084\n",
      "Epoch 30/500\n",
      "73/73 - 48s - loss: 1.1328 - accuracy: 0.6692 - val_loss: 1.1271 - val_accuracy: 0.6708\n",
      "\n",
      "Epoch 00030: val_accuracy did not improve from 0.67084\n",
      "Epoch 31/500\n",
      "73/73 - 47s - loss: 1.1320 - accuracy: 0.6693 - val_loss: 1.1271 - val_accuracy: 0.6708\n",
      "\n",
      "Epoch 00031: val_accuracy did not improve from 0.67084\n",
      "Epoch 32/500\n",
      "73/73 - 47s - loss: 1.1319 - accuracy: 0.6693 - val_loss: 1.1272 - val_accuracy: 0.6708\n",
      "\n",
      "Epoch 00032: val_accuracy did not improve from 0.67084\n",
      "Epoch 33/500\n",
      "73/73 - 47s - loss: 1.1320 - accuracy: 0.6693 - val_loss: 1.1275 - val_accuracy: 0.6708\n",
      "\n",
      "Epoch 00033: val_accuracy did not improve from 0.67084\n",
      "Epoch 34/500\n",
      "73/73 - 47s - loss: 1.1321 - accuracy: 0.6693 - val_loss: 1.1272 - val_accuracy: 0.6708\n",
      "\n",
      "Epoch 00034: val_accuracy did not improve from 0.67084\n",
      "Epoch 35/500\n",
      "73/73 - 47s - loss: 1.1320 - accuracy: 0.6693 - val_loss: 1.1272 - val_accuracy: 0.6708\n",
      "\n",
      "Epoch 00035: val_accuracy did not improve from 0.67084\n",
      "Epoch 36/500\n",
      "73/73 - 47s - loss: 1.1319 - accuracy: 0.6693 - val_loss: 1.1271 - val_accuracy: 0.6708\n",
      "\n",
      "Epoch 00036: val_accuracy did not improve from 0.67084\n",
      "Epoch 37/500\n",
      "73/73 - 47s - loss: 1.1321 - accuracy: 0.6693 - val_loss: 1.1272 - val_accuracy: 0.6708\n",
      "\n",
      "Epoch 00037: val_accuracy did not improve from 0.67084\n",
      "Epoch 38/500\n",
      "73/73 - 47s - loss: 1.1319 - accuracy: 0.6693 - val_loss: 1.1272 - val_accuracy: 0.6708\n",
      "\n",
      "Epoch 00038: val_accuracy did not improve from 0.67084\n",
      "Epoch 39/500\n",
      "73/73 - 47s - loss: 1.1319 - accuracy: 0.6693 - val_loss: 1.1272 - val_accuracy: 0.6708\n",
      "\n",
      "Epoch 00039: val_accuracy did not improve from 0.67084\n",
      "Epoch 40/500\n",
      "73/73 - 48s - loss: 1.1319 - accuracy: 0.6693 - val_loss: 1.1272 - val_accuracy: 0.6708\n",
      "\n",
      "Epoch 00040: val_accuracy did not improve from 0.67084\n",
      "Epoch 41/500\n",
      "73/73 - 47s - loss: 1.1319 - accuracy: 0.6693 - val_loss: 1.1272 - val_accuracy: 0.6708\n",
      "\n",
      "Epoch 00041: val_accuracy did not improve from 0.67084\n",
      "\n",
      "Epoch 00041: ReduceLROnPlateau reducing learning rate to 0.0006000000052154065.\n",
      "Epoch 42/500\n",
      "73/73 - 48s - loss: 1.1317 - accuracy: 0.6693 - val_loss: 1.1272 - val_accuracy: 0.6708\n",
      "\n",
      "Epoch 00042: val_accuracy did not improve from 0.67084\n",
      "Epoch 43/500\n",
      "73/73 - 47s - loss: 1.1317 - accuracy: 0.6693 - val_loss: 1.1272 - val_accuracy: 0.6708\n",
      "\n",
      "Epoch 00043: val_accuracy did not improve from 0.67084\n",
      "Epoch 44/500\n",
      "73/73 - 48s - loss: 1.1317 - accuracy: 0.6693 - val_loss: 1.1272 - val_accuracy: 0.6708\n",
      "\n",
      "Epoch 00044: val_accuracy did not improve from 0.67084\n",
      "Epoch 45/500\n",
      "73/73 - 48s - loss: 1.1317 - accuracy: 0.6693 - val_loss: 1.1272 - val_accuracy: 0.6708\n",
      "\n",
      "Epoch 00045: val_accuracy did not improve from 0.67084\n",
      "Epoch 46/500\n",
      "73/73 - 47s - loss: 1.1317 - accuracy: 0.6693 - val_loss: 1.1272 - val_accuracy: 0.6708\n",
      "\n",
      "Epoch 00046: val_accuracy did not improve from 0.67084\n",
      "Epoch 47/500\n",
      "73/73 - 47s - loss: 1.1617 - accuracy: 0.6692 - val_loss: 1.1272 - val_accuracy: 0.6708\n",
      "\n",
      "Epoch 00047: val_accuracy did not improve from 0.67084\n",
      "Epoch 48/500\n",
      "73/73 - 47s - loss: 1.1317 - accuracy: 0.6693 - val_loss: 1.1271 - val_accuracy: 0.6708\n",
      "\n",
      "Epoch 00048: val_accuracy did not improve from 0.67084\n",
      "Epoch 49/500\n",
      "73/73 - 47s - loss: 1.1317 - accuracy: 0.6693 - val_loss: 1.1272 - val_accuracy: 0.6708\n",
      "\n",
      "Epoch 00049: val_accuracy did not improve from 0.67084\n",
      "Epoch 50/500\n",
      "73/73 - 48s - loss: 1.1317 - accuracy: 0.6693 - val_loss: 1.1271 - val_accuracy: 0.6708\n",
      "\n",
      "Epoch 00050: val_accuracy did not improve from 0.67084\n",
      "Epoch 51/500\n",
      "73/73 - 48s - loss: 1.1317 - accuracy: 0.6693 - val_loss: 1.1271 - val_accuracy: 0.6708\n",
      "\n",
      "Epoch 00051: val_accuracy did not improve from 0.67084\n",
      "Epoch 52/500\n",
      "73/73 - 48s - loss: 1.1317 - accuracy: 0.6693 - val_loss: 1.1271 - val_accuracy: 0.6708\n",
      "\n",
      "Epoch 00052: val_accuracy did not improve from 0.67084\n",
      "\n",
      "Epoch 00052: ReduceLROnPlateau reducing learning rate to 6.000000284984708e-05.\n",
      "Epoch 53/500\n",
      "73/73 - 48s - loss: 1.1316 - accuracy: 0.6693 - val_loss: 1.1271 - val_accuracy: 0.6708\n",
      "\n",
      "Epoch 00053: val_accuracy did not improve from 0.67084\n",
      "Epoch 54/500\n",
      "73/73 - 48s - loss: 1.1316 - accuracy: 0.6693 - val_loss: 1.1271 - val_accuracy: 0.6708\n",
      "\n",
      "Epoch 00054: val_accuracy did not improve from 0.67084\n",
      "Epoch 55/500\n",
      "73/73 - 48s - loss: 1.1319 - accuracy: 0.6692 - val_loss: 1.1271 - val_accuracy: 0.6708\n",
      "\n",
      "Epoch 00055: val_accuracy did not improve from 0.67084\n",
      "Epoch 56/500\n"
     ]
    }
   ],
   "source": [
    "history = model.fit(train_batches, validation_data= validation_batches,\n",
    "          epochs=500, shuffle=True, verbose=2, callbacks=[es,mc,lrl])"
   ]
  },
  {
   "cell_type": "code",
   "execution_count": null,
   "outputs": [],
   "source": [
    "y_pred_proba = model.predict(train_batches)\n",
    "y_pred = np.argmax(y_pred_proba)"
   ],
   "metadata": {
    "collapsed": false,
    "pycharm": {
     "name": "#%%\n",
     "is_executing": true
    }
   }
  },
  {
   "cell_type": "code",
   "execution_count": null,
   "outputs": [],
   "source": [
    "best_model = keep_best_saved_h5(\"/deployment/models/\",model_name,0.2)\n",
    "model = load_model(f\"deployment/models/{best_model}\")"
   ],
   "metadata": {
    "collapsed": false,
    "pycharm": {
     "name": "#%%\n",
     "is_executing": true
    }
   }
  },
  {
   "cell_type": "code",
   "execution_count": null,
   "outputs": [],
   "source": [
    "print(y_pred_proba)\n",
    "print(best_model)"
   ],
   "metadata": {
    "collapsed": false,
    "pycharm": {
     "name": "#%%\n",
     "is_executing": true
    }
   }
  }
 ],
 "metadata": {
  "kernelspec": {
   "name": "python3",
   "language": "python",
   "display_name": "Python 3 (ipykernel)"
  },
  "language_info": {
   "codemirror_mode": {
    "name": "ipython",
    "version": 3
   },
   "file_extension": ".py",
   "mimetype": "text/x-python",
   "name": "python",
   "nbconvert_exporter": "python",
   "pygments_lexer": "ipython3",
   "version": "3.7.11"
  }
 },
 "nbformat": 4,
 "nbformat_minor": 4
}
