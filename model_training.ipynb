{
 "cells": [
  {
   "cell_type": "code",
   "execution_count": 10,
   "metadata": {
    "collapsed": false,
    "jupyter": {
     "outputs_hidden": false
    },
    "pycharm": {
     "name": "#%%\n"
    }
   },
   "outputs": [],
   "source": [
    "import plotly.express as px\n",
    "import tensorflow as tf\n",
    "from tensorflow import keras\n",
    "from tensorflow.keras.preprocessing import image\n",
    "import numpy as np\n",
    "from tensorflow.keras.preprocessing.image import ImageDataGenerator\n",
    "from keras import Sequential\n",
    "from keras.layers import Dense\n",
    "from keras.layers import Flatten, Dropout, Normalization\n",
    "from keras.models import Model\n",
    "from tensorflow.keras.metrics import categorical_crossentropy\n",
    "from tensorflow.keras.losses import CategoricalCrossentropy\n",
    "from tensorflow.keras.optimizers import Adam\n",
    "from keras.callbacks import ReduceLROnPlateau, EarlyStopping, ModelCheckpoint\n",
    "from keras.models import load_model\n",
    "from utils.functions import *\n",
    "from sklearn.metrics import classification_report\n",
    "from sklearn.model_selection import cross_val_score\n",
    "from sklearn.metrics import confusion_matrix"
   ]
  },
  {
   "cell_type": "code",
   "execution_count": 11,
   "metadata": {
    "collapsed": false,
    "jupyter": {
     "outputs_hidden": false
    },
    "pycharm": {
     "name": "#%%\n"
    }
   },
   "outputs": [
    {
     "name": "stdout",
     "output_type": "stream",
     "text": [
      "NUM GPUs Available:  1\n"
     ]
    }
   ],
   "source": [
    "physical_devices = tf.config.experimental.list_physical_devices(\"GPU\")\n",
    "print(\"NUM GPUs Available: \", len(physical_devices))\n",
    "tf.config.experimental.set_memory_growth(physical_devices[0], True)"
   ]
  },
  {
   "cell_type": "code",
   "execution_count": 12,
   "metadata": {
    "collapsed": false,
    "jupyter": {
     "outputs_hidden": false
    },
    "pycharm": {
     "name": "#%%\n"
    }
   },
   "outputs": [],
   "source": [
    "from tensorflow.keras.applications import ResNet50\n",
    "from keras.applications.resnet import preprocess_input\n",
    "\n",
    "model = ResNet50(include_top=False, input_shape=(112, 112,3))\n",
    "model_name = \"ResNet50\""
   ]
  },
  {
   "cell_type": "code",
   "execution_count": 13,
   "metadata": {
    "collapsed": false,
    "jupyter": {
     "outputs_hidden": false
    },
    "pycharm": {
     "name": "#%%\n"
    }
   },
   "outputs": [],
   "source": [
    "train_path = \"data/train\"\n",
    "test_path = \"data/test\"\n",
    "labels = {\"akiec\":0, \"bcc\":1, \"bkl\":2, \"df\":3, \"mel\":4, \"nv\":5, \"vasc\":6}\n",
    "classes = list(labels.keys())\n",
    "size = (112,112)"
   ]
  },
  {
   "cell_type": "code",
   "execution_count": 14,
   "metadata": {
    "collapsed": false,
    "jupyter": {
     "outputs_hidden": false
    },
    "pycharm": {
     "name": "#%%\n"
    }
   },
   "outputs": [
    {
     "name": "stdout",
     "output_type": "stream",
     "text": [
      "Found 3763 images belonging to 7 classes.\n",
      "Found 937 images belonging to 7 classes.\n",
      "Found 2003 images belonging to 7 classes.\n"
     ]
    }
   ],
   "source": [
    "model_generator = ImageDataGenerator(preprocessing_function=preprocess_input, rotation_range = 40,\n",
    "                                        width_shift_range = 0.2, height_shift_range = 0.2, rescale = 1./255,\n",
    "                                        shear_range = 0.2, zoom_range = 0.2, horizontal_flip = True,\n",
    "                                        validation_split=.2)\n",
    "\n",
    "train_batches = model_generator.flow_from_directory(train_path,target_size=size,classes=classes,\n",
    "                                                batch_size=40, shuffle=True, subset=\"training\")\n",
    "validation_batches = model_generator.flow_from_directory(train_path,size,classes=classes,\n",
    "                                                batch_size=20, shuffle=True, subset=\"validation\")\n",
    "test_batches = ImageDataGenerator(preprocessing_function=preprocess_input)\\\n",
    "    .flow_from_directory(test_path,size,classes=classes, batch_size=10, shuffle=False)"
   ]
  },
  {
   "cell_type": "code",
   "execution_count": 15,
   "metadata": {
    "collapsed": false,
    "jupyter": {
     "outputs_hidden": false
    },
    "pycharm": {
     "name": "#%%\n"
    }
   },
   "outputs": [],
   "source": [
    "flat1 = Flatten()(model.layers[-1].output)\n",
    "norm = Normalization()(flat1)\n",
    "class1 = Dense(128, activation=\"relu\")(norm)\n",
    "class2 = Dropout(rate=.3)(class1)\n",
    "class3 = Dense(64, activation=\"relu\")(class2)\n",
    "class4 = Dropout(rate=.3)(class3)\n",
    "class5 = Dense(32, activation=\"relu\")(class4)\n",
    "class6 = Dropout(rate=.3)(class5)\n",
    "output = Dense(7, activation=\"softmax\")(class6)\n",
    "model = Model(inputs=model.inputs, outputs=output)"
   ]
  },
  {
   "cell_type": "code",
   "execution_count": 16,
   "metadata": {
    "collapsed": false,
    "jupyter": {
     "outputs_hidden": false
    },
    "pycharm": {
     "name": "#%%\n"
    }
   },
   "outputs": [],
   "source": [
    "learning_rate = 0.06\n",
    "optimizer = Adam(learning_rate)\n",
    "loss = \"categorical_crossentropy\"\n",
    "metrics = \"accuracy\"\n",
    "\n",
    "model.compile(optimizer=optimizer, loss=tf.keras.losses.CategoricalCrossentropy(from_logits=False), metrics=metrics)"
   ]
  },
  {
   "cell_type": "code",
   "execution_count": 17,
   "outputs": [],
   "source": [
    "es = EarlyStopping(monitor='val_loss', mode='min', verbose=1, patience=50)\n",
    "mc = ModelCheckpoint('/deployment/models/'+model_name+'_training_{accuracy:.4f}_{val_accuracy:.4f}.h5',\n",
    "                     monitor='val_accuracy', mode='max', verbose=1,\n",
    "                     save_best_only=True)\n",
    "lrl = ReduceLROnPlateau(patience=10,verbose=1,monitor=\"loss\")"
   ],
   "metadata": {
    "collapsed": false,
    "pycharm": {
     "name": "#%%\n"
    }
   }
  },
  {
   "cell_type": "code",
   "execution_count": 18,
   "metadata": {
    "collapsed": false,
    "jupyter": {
     "outputs_hidden": false
    },
    "pycharm": {
     "name": "#%%\n"
    }
   },
   "outputs": [
    {
     "name": "stdout",
     "output_type": "stream",
     "text": [
      "Epoch 1/100\n",
      "95/95 - 31s - loss: 54.5433 - accuracy: 0.4135 - val_loss: 12575.3438 - val_accuracy: 0.2273\n",
      "\n",
      "Epoch 00001: val_accuracy improved from -inf to 0.22732, saving model to /deployment/models\\ResNet50_training_0.4135_0.2273.h5\n",
      "Epoch 2/100\n",
      "95/95 - 26s - loss: 13.8232 - accuracy: 0.4279 - val_loss: 1.5316 - val_accuracy: 0.4376\n",
      "\n",
      "Epoch 00002: val_accuracy improved from 0.22732 to 0.43757, saving model to /deployment/models\\ResNet50_training_0.4279_0.4376.h5\n",
      "Epoch 3/100\n",
      "95/95 - 26s - loss: 2.3323 - accuracy: 0.4337 - val_loss: 1.5322 - val_accuracy: 0.4376\n",
      "\n",
      "Epoch 00003: val_accuracy did not improve from 0.43757\n",
      "Epoch 4/100\n",
      "95/95 - 26s - loss: 2.0837 - accuracy: 0.4366 - val_loss: 1.5292 - val_accuracy: 0.4376\n",
      "\n",
      "Epoch 00004: val_accuracy did not improve from 0.43757\n",
      "Epoch 5/100\n",
      "95/95 - 26s - loss: 6.2680 - accuracy: 0.4353 - val_loss: 1.5309 - val_accuracy: 0.4376\n",
      "\n",
      "Epoch 00005: val_accuracy did not improve from 0.43757\n",
      "Epoch 6/100\n",
      "95/95 - 26s - loss: 1.9251 - accuracy: 0.4366 - val_loss: 1.5365 - val_accuracy: 0.4376\n",
      "\n",
      "Epoch 00006: val_accuracy did not improve from 0.43757\n",
      "Epoch 7/100\n",
      "95/95 - 25s - loss: 1.5411 - accuracy: 0.4364 - val_loss: 1.5327 - val_accuracy: 0.4376\n",
      "\n",
      "Epoch 00007: val_accuracy did not improve from 0.43757\n",
      "Epoch 8/100\n",
      "95/95 - 26s - loss: 1.8679 - accuracy: 0.4361 - val_loss: 1.5315 - val_accuracy: 0.4376\n",
      "\n",
      "Epoch 00008: val_accuracy did not improve from 0.43757\n",
      "Epoch 9/100\n",
      "95/95 - 25s - loss: 1.5377 - accuracy: 0.4364 - val_loss: 1.5323 - val_accuracy: 0.4376\n",
      "\n",
      "Epoch 00009: val_accuracy did not improve from 0.43757\n",
      "Epoch 10/100\n",
      "95/95 - 26s - loss: 1.9587 - accuracy: 0.4361 - val_loss: 1.5299 - val_accuracy: 0.4376\n",
      "\n",
      "Epoch 00010: val_accuracy did not improve from 0.43757\n",
      "Epoch 11/100\n",
      "95/95 - 26s - loss: 1.5377 - accuracy: 0.4364 - val_loss: 1.5356 - val_accuracy: 0.4376\n",
      "\n",
      "Epoch 00011: val_accuracy did not improve from 0.43757\n",
      "Epoch 12/100\n",
      "95/95 - 26s - loss: 1.5898 - accuracy: 0.4364 - val_loss: 1.5391 - val_accuracy: 0.4376\n",
      "\n",
      "Epoch 00012: val_accuracy did not improve from 0.43757\n",
      "Epoch 13/100\n",
      "95/95 - 27s - loss: 1.6830 - accuracy: 0.4364 - val_loss: 1.5334 - val_accuracy: 0.4376\n",
      "\n",
      "Epoch 00013: val_accuracy did not improve from 0.43757\n",
      "Epoch 14/100\n",
      "95/95 - 26s - loss: 3.2562 - accuracy: 0.4358 - val_loss: 1.5300 - val_accuracy: 0.4376\n",
      "\n",
      "Epoch 00014: val_accuracy did not improve from 0.43757\n",
      "Epoch 15/100\n",
      "95/95 - 26s - loss: 11.2529 - accuracy: 0.4364 - val_loss: 1.5311 - val_accuracy: 0.4376\n",
      "\n",
      "Epoch 00015: val_accuracy did not improve from 0.43757\n",
      "Epoch 16/100\n",
      "95/95 - 26s - loss: 1.5402 - accuracy: 0.4364 - val_loss: 1.5290 - val_accuracy: 0.4376\n",
      "\n",
      "Epoch 00016: val_accuracy did not improve from 0.43757\n",
      "Epoch 17/100\n",
      "95/95 - 26s - loss: 1.5407 - accuracy: 0.4364 - val_loss: 1.5345 - val_accuracy: 0.4376\n",
      "\n",
      "Epoch 00017: val_accuracy did not improve from 0.43757\n",
      "Epoch 18/100\n",
      "95/95 - 27s - loss: 1.5398 - accuracy: 0.4364 - val_loss: 1.5312 - val_accuracy: 0.4376\n",
      "\n",
      "Epoch 00018: val_accuracy did not improve from 0.43757\n",
      "Epoch 19/100\n",
      "95/95 - 26s - loss: 5.0534 - accuracy: 0.4364 - val_loss: 1.5297 - val_accuracy: 0.4376\n",
      "\n",
      "Epoch 00019: val_accuracy did not improve from 0.43757\n",
      "\n",
      "Epoch 00019: ReduceLROnPlateau reducing learning rate to 0.00599999986588955.\n",
      "Epoch 20/100\n",
      "95/95 - 26s - loss: 1.5817 - accuracy: 0.4366 - val_loss: 1.5285 - val_accuracy: 0.4376\n",
      "\n",
      "Epoch 00020: val_accuracy did not improve from 0.43757\n",
      "Epoch 21/100\n",
      "95/95 - 27s - loss: 1.5333 - accuracy: 0.4364 - val_loss: 1.5284 - val_accuracy: 0.4376\n",
      "\n",
      "Epoch 00021: val_accuracy did not improve from 0.43757\n",
      "Epoch 22/100\n",
      "95/95 - 26s - loss: 1.5337 - accuracy: 0.4364 - val_loss: 1.5283 - val_accuracy: 0.4376\n",
      "\n",
      "Epoch 00022: val_accuracy did not improve from 0.43757\n",
      "Epoch 23/100\n",
      "95/95 - 26s - loss: 1.5330 - accuracy: 0.4364 - val_loss: 1.5284 - val_accuracy: 0.4376\n",
      "\n",
      "Epoch 00023: val_accuracy did not improve from 0.43757\n",
      "Epoch 24/100\n",
      "95/95 - 26s - loss: 1.5332 - accuracy: 0.4364 - val_loss: 1.5283 - val_accuracy: 0.4376\n",
      "\n",
      "Epoch 00024: val_accuracy did not improve from 0.43757\n",
      "Epoch 25/100\n",
      "95/95 - 26s - loss: 1.5335 - accuracy: 0.4364 - val_loss: 1.5283 - val_accuracy: 0.4376\n",
      "\n",
      "Epoch 00025: val_accuracy did not improve from 0.43757\n",
      "Epoch 26/100\n",
      "95/95 - 26s - loss: 1.5332 - accuracy: 0.4364 - val_loss: 1.5283 - val_accuracy: 0.4376\n",
      "\n",
      "Epoch 00026: val_accuracy did not improve from 0.43757\n",
      "Epoch 27/100\n",
      "95/95 - 26s - loss: 1.5332 - accuracy: 0.4364 - val_loss: 1.5284 - val_accuracy: 0.4376\n",
      "\n",
      "Epoch 00027: val_accuracy did not improve from 0.43757\n",
      "Epoch 28/100\n",
      "95/95 - 27s - loss: 1.5335 - accuracy: 0.4364 - val_loss: 1.5283 - val_accuracy: 0.4376\n",
      "\n",
      "Epoch 00028: val_accuracy did not improve from 0.43757\n",
      "Epoch 29/100\n",
      "95/95 - 27s - loss: 1.5335 - accuracy: 0.4364 - val_loss: 1.5284 - val_accuracy: 0.4376\n",
      "\n",
      "Epoch 00029: val_accuracy did not improve from 0.43757\n",
      "Epoch 30/100\n",
      "95/95 - 25s - loss: 1.5332 - accuracy: 0.4364 - val_loss: 1.5283 - val_accuracy: 0.4376\n",
      "\n",
      "Epoch 00030: val_accuracy did not improve from 0.43757\n",
      "Epoch 31/100\n",
      "95/95 - 26s - loss: 1.5334 - accuracy: 0.4364 - val_loss: 1.5283 - val_accuracy: 0.4376\n",
      "\n",
      "Epoch 00031: val_accuracy did not improve from 0.43757\n",
      "Epoch 32/100\n",
      "95/95 - 26s - loss: 1.5334 - accuracy: 0.4364 - val_loss: 1.5283 - val_accuracy: 0.4376\n",
      "\n",
      "Epoch 00032: val_accuracy did not improve from 0.43757\n",
      "Epoch 33/100\n",
      "95/95 - 26s - loss: 1.5335 - accuracy: 0.4364 - val_loss: 1.5284 - val_accuracy: 0.4376\n",
      "\n",
      "Epoch 00033: val_accuracy did not improve from 0.43757\n",
      "\n",
      "Epoch 00033: ReduceLROnPlateau reducing learning rate to 0.0006000000052154065.\n",
      "Epoch 34/100\n",
      "95/95 - 26s - loss: 1.5329 - accuracy: 0.4364 - val_loss: 1.5284 - val_accuracy: 0.4376\n",
      "\n",
      "Epoch 00034: val_accuracy did not improve from 0.43757\n",
      "Epoch 35/100\n",
      "95/95 - 26s - loss: 1.5328 - accuracy: 0.4364 - val_loss: 1.5283 - val_accuracy: 0.4376\n",
      "\n",
      "Epoch 00035: val_accuracy did not improve from 0.43757\n",
      "Epoch 36/100\n",
      "95/95 - 25s - loss: 1.5328 - accuracy: 0.4364 - val_loss: 1.5283 - val_accuracy: 0.4376\n",
      "\n",
      "Epoch 00036: val_accuracy did not improve from 0.43757\n",
      "Epoch 37/100\n",
      "95/95 - 26s - loss: 1.5327 - accuracy: 0.4364 - val_loss: 1.5283 - val_accuracy: 0.4376\n",
      "\n",
      "Epoch 00037: val_accuracy did not improve from 0.43757\n",
      "Epoch 38/100\n",
      "95/95 - 26s - loss: 1.5327 - accuracy: 0.4364 - val_loss: 1.5283 - val_accuracy: 0.4376\n",
      "\n",
      "Epoch 00038: val_accuracy did not improve from 0.43757\n",
      "Epoch 39/100\n",
      "95/95 - 26s - loss: 1.5327 - accuracy: 0.4364 - val_loss: 1.5283 - val_accuracy: 0.4376\n",
      "\n",
      "Epoch 00039: val_accuracy did not improve from 0.43757\n",
      "Epoch 40/100\n",
      "95/95 - 26s - loss: 1.5327 - accuracy: 0.4364 - val_loss: 1.5283 - val_accuracy: 0.4376\n",
      "\n",
      "Epoch 00040: val_accuracy did not improve from 0.43757\n",
      "Epoch 41/100\n",
      "95/95 - 26s - loss: 1.5327 - accuracy: 0.4364 - val_loss: 1.5283 - val_accuracy: 0.4376\n",
      "\n",
      "Epoch 00041: val_accuracy did not improve from 0.43757\n",
      "Epoch 42/100\n",
      "95/95 - 27s - loss: 1.5327 - accuracy: 0.4364 - val_loss: 1.5283 - val_accuracy: 0.4376\n",
      "\n",
      "Epoch 00042: val_accuracy did not improve from 0.43757\n",
      "Epoch 43/100\n",
      "95/95 - 26s - loss: 1.5327 - accuracy: 0.4364 - val_loss: 1.5283 - val_accuracy: 0.4376\n",
      "\n",
      "Epoch 00043: val_accuracy did not improve from 0.43757\n",
      "Epoch 44/100\n",
      "95/95 - 26s - loss: 1.5327 - accuracy: 0.4364 - val_loss: 1.5283 - val_accuracy: 0.4376\n",
      "\n",
      "Epoch 00044: val_accuracy did not improve from 0.43757\n",
      "Epoch 45/100\n",
      "95/95 - 26s - loss: 1.5327 - accuracy: 0.4364 - val_loss: 1.5283 - val_accuracy: 0.4376\n",
      "\n",
      "Epoch 00045: val_accuracy did not improve from 0.43757\n",
      "Epoch 46/100\n",
      "95/95 - 26s - loss: 1.5327 - accuracy: 0.4364 - val_loss: 1.5283 - val_accuracy: 0.4376\n",
      "\n",
      "Epoch 00046: val_accuracy did not improve from 0.43757\n",
      "Epoch 47/100\n",
      "95/95 - 26s - loss: 1.5327 - accuracy: 0.4364 - val_loss: 1.5282 - val_accuracy: 0.4376\n",
      "\n",
      "Epoch 00047: val_accuracy did not improve from 0.43757\n",
      "\n",
      "Epoch 00047: ReduceLROnPlateau reducing learning rate to 6.000000284984708e-05.\n",
      "Epoch 48/100\n",
      "95/95 - 26s - loss: 1.5326 - accuracy: 0.4364 - val_loss: 1.5282 - val_accuracy: 0.4376\n",
      "\n",
      "Epoch 00048: val_accuracy did not improve from 0.43757\n",
      "Epoch 49/100\n",
      "95/95 - 26s - loss: 1.5326 - accuracy: 0.4364 - val_loss: 1.5282 - val_accuracy: 0.4376\n",
      "\n",
      "Epoch 00049: val_accuracy did not improve from 0.43757\n",
      "Epoch 50/100\n",
      "95/95 - 26s - loss: 1.5326 - accuracy: 0.4364 - val_loss: 1.5282 - val_accuracy: 0.4376\n",
      "\n",
      "Epoch 00050: val_accuracy did not improve from 0.43757\n",
      "Epoch 51/100\n",
      "95/95 - 26s - loss: 1.6316 - accuracy: 0.4364 - val_loss: 1.5282 - val_accuracy: 0.4376\n",
      "\n",
      "Epoch 00051: val_accuracy did not improve from 0.43757\n",
      "Epoch 52/100\n",
      "95/95 - 26s - loss: 1.5326 - accuracy: 0.4364 - val_loss: 1.5282 - val_accuracy: 0.4376\n",
      "\n",
      "Epoch 00052: val_accuracy did not improve from 0.43757\n",
      "Epoch 53/100\n",
      "95/95 - 27s - loss: 1.5326 - accuracy: 0.4364 - val_loss: 1.5282 - val_accuracy: 0.4376\n",
      "\n",
      "Epoch 00053: val_accuracy did not improve from 0.43757\n",
      "Epoch 54/100\n",
      "95/95 - 26s - loss: 1.5326 - accuracy: 0.4364 - val_loss: 1.5282 - val_accuracy: 0.4376\n",
      "\n",
      "Epoch 00054: val_accuracy did not improve from 0.43757\n",
      "Epoch 55/100\n",
      "95/95 - 25s - loss: 1.5326 - accuracy: 0.4364 - val_loss: 1.5282 - val_accuracy: 0.4376\n",
      "\n",
      "Epoch 00055: val_accuracy did not improve from 0.43757\n",
      "Epoch 56/100\n",
      "95/95 - 26s - loss: 1.5326 - accuracy: 0.4364 - val_loss: 1.5282 - val_accuracy: 0.4376\n",
      "\n",
      "Epoch 00056: val_accuracy did not improve from 0.43757\n",
      "Epoch 57/100\n",
      "95/95 - 26s - loss: 1.5326 - accuracy: 0.4364 - val_loss: 1.5282 - val_accuracy: 0.4376\n",
      "\n",
      "Epoch 00057: val_accuracy did not improve from 0.43757\n",
      "Epoch 58/100\n",
      "95/95 - 26s - loss: 1.5326 - accuracy: 0.4364 - val_loss: 1.5282 - val_accuracy: 0.4376\n",
      "\n",
      "Epoch 00058: val_accuracy did not improve from 0.43757\n",
      "\n",
      "Epoch 00058: ReduceLROnPlateau reducing learning rate to 6.000000212225132e-06.\n",
      "Epoch 59/100\n",
      "95/95 - 26s - loss: 1.5326 - accuracy: 0.4364 - val_loss: 1.5282 - val_accuracy: 0.4376\n",
      "\n",
      "Epoch 00059: val_accuracy did not improve from 0.43757\n",
      "Epoch 60/100\n",
      "95/95 - 26s - loss: 1.5326 - accuracy: 0.4364 - val_loss: 1.5282 - val_accuracy: 0.4376\n",
      "\n",
      "Epoch 00060: val_accuracy did not improve from 0.43757\n",
      "Epoch 61/100\n",
      "95/95 - 26s - loss: 1.5326 - accuracy: 0.4364 - val_loss: 1.5282 - val_accuracy: 0.4376\n",
      "\n",
      "Epoch 00061: val_accuracy did not improve from 0.43757\n",
      "Epoch 62/100\n",
      "95/95 - 26s - loss: 1.5326 - accuracy: 0.4364 - val_loss: 1.5282 - val_accuracy: 0.4376\n",
      "\n",
      "Epoch 00062: val_accuracy did not improve from 0.43757\n",
      "Epoch 63/100\n",
      "95/95 - 26s - loss: 1.5326 - accuracy: 0.4364 - val_loss: 1.5282 - val_accuracy: 0.4376\n",
      "\n",
      "Epoch 00063: val_accuracy did not improve from 0.43757\n",
      "Epoch 64/100\n",
      "95/95 - 25s - loss: 1.5326 - accuracy: 0.4364 - val_loss: 1.5282 - val_accuracy: 0.4376\n",
      "\n",
      "Epoch 00064: val_accuracy did not improve from 0.43757\n",
      "Epoch 65/100\n",
      "95/95 - 26s - loss: 1.5326 - accuracy: 0.4364 - val_loss: 1.5282 - val_accuracy: 0.4376\n",
      "\n",
      "Epoch 00065: val_accuracy did not improve from 0.43757\n",
      "Epoch 66/100\n",
      "95/95 - 26s - loss: 1.5837 - accuracy: 0.4364 - val_loss: 1.5282 - val_accuracy: 0.4376\n",
      "\n",
      "Epoch 00066: val_accuracy did not improve from 0.43757\n",
      "Epoch 67/100\n",
      "95/95 - 26s - loss: 1.5326 - accuracy: 0.4364 - val_loss: 1.5282 - val_accuracy: 0.4376\n",
      "\n",
      "Epoch 00067: val_accuracy did not improve from 0.43757\n",
      "Epoch 68/100\n",
      "95/95 - 26s - loss: 1.5326 - accuracy: 0.4364 - val_loss: 1.5282 - val_accuracy: 0.4376\n",
      "\n",
      "Epoch 00068: val_accuracy did not improve from 0.43757\n",
      "\n",
      "Epoch 00068: ReduceLROnPlateau reducing learning rate to 6.000000212225132e-07.\n",
      "Epoch 69/100\n",
      "95/95 - 27s - loss: 1.5326 - accuracy: 0.4364 - val_loss: 1.5282 - val_accuracy: 0.4376\n",
      "\n",
      "Epoch 00069: val_accuracy did not improve from 0.43757\n",
      "Epoch 70/100\n",
      "95/95 - 26s - loss: 1.5326 - accuracy: 0.4364 - val_loss: 1.5282 - val_accuracy: 0.4376\n",
      "\n",
      "Epoch 00070: val_accuracy did not improve from 0.43757\n",
      "Epoch 71/100\n",
      "95/95 - 25s - loss: 1.5326 - accuracy: 0.4364 - val_loss: 1.5282 - val_accuracy: 0.4376\n",
      "\n",
      "Epoch 00071: val_accuracy did not improve from 0.43757\n",
      "Epoch 72/100\n",
      "95/95 - 26s - loss: 1.5326 - accuracy: 0.4364 - val_loss: 1.5282 - val_accuracy: 0.4376\n",
      "\n",
      "Epoch 00072: val_accuracy did not improve from 0.43757\n",
      "Epoch 73/100\n",
      "95/95 - 26s - loss: 1.5326 - accuracy: 0.4364 - val_loss: 1.5282 - val_accuracy: 0.4376\n",
      "\n",
      "Epoch 00073: val_accuracy did not improve from 0.43757\n",
      "Epoch 74/100\n",
      "95/95 - 26s - loss: 1.5326 - accuracy: 0.4364 - val_loss: 1.5282 - val_accuracy: 0.4376\n",
      "\n",
      "Epoch 00074: val_accuracy did not improve from 0.43757\n",
      "Epoch 75/100\n",
      "95/95 - 26s - loss: 1.5326 - accuracy: 0.4364 - val_loss: 1.5282 - val_accuracy: 0.4376\n",
      "\n",
      "Epoch 00075: val_accuracy did not improve from 0.43757\n",
      "Epoch 76/100\n",
      "95/95 - 26s - loss: 1.5326 - accuracy: 0.4364 - val_loss: 1.5282 - val_accuracy: 0.4376\n",
      "\n",
      "Epoch 00076: val_accuracy did not improve from 0.43757\n",
      "Epoch 77/100\n",
      "95/95 - 26s - loss: 1.5326 - accuracy: 0.4364 - val_loss: 1.5282 - val_accuracy: 0.4376\n",
      "\n",
      "Epoch 00077: val_accuracy did not improve from 0.43757\n",
      "Epoch 78/100\n",
      "95/95 - 26s - loss: 1.5649 - accuracy: 0.4364 - val_loss: 1.5282 - val_accuracy: 0.4376\n",
      "\n",
      "Epoch 00078: val_accuracy did not improve from 0.43757\n",
      "\n",
      "Epoch 00078: ReduceLROnPlateau reducing learning rate to 6.000000212225131e-08.\n",
      "Epoch 79/100\n",
      "95/95 - 26s - loss: 1.5326 - accuracy: 0.4364 - val_loss: 1.5282 - val_accuracy: 0.4376\n",
      "\n",
      "Epoch 00079: val_accuracy did not improve from 0.43757\n",
      "Epoch 80/100\n",
      "95/95 - 26s - loss: 1.5326 - accuracy: 0.4364 - val_loss: 1.5282 - val_accuracy: 0.4376\n",
      "\n",
      "Epoch 00080: val_accuracy did not improve from 0.43757\n",
      "Epoch 81/100\n",
      "95/95 - 27s - loss: 1.5326 - accuracy: 0.4364 - val_loss: 1.5282 - val_accuracy: 0.4376\n",
      "\n",
      "Epoch 00081: val_accuracy did not improve from 0.43757\n",
      "Epoch 82/100\n",
      "95/95 - 26s - loss: 1.5326 - accuracy: 0.4364 - val_loss: 1.5282 - val_accuracy: 0.4376\n",
      "\n",
      "Epoch 00082: val_accuracy did not improve from 0.43757\n",
      "Epoch 83/100\n",
      "95/95 - 26s - loss: 1.5326 - accuracy: 0.4364 - val_loss: 1.5282 - val_accuracy: 0.4376\n",
      "\n",
      "Epoch 00083: val_accuracy did not improve from 0.43757\n",
      "Epoch 84/100\n",
      "95/95 - 26s - loss: 1.5326 - accuracy: 0.4364 - val_loss: 1.5282 - val_accuracy: 0.4376\n",
      "\n",
      "Epoch 00084: val_accuracy did not improve from 0.43757\n",
      "Epoch 85/100\n",
      "95/95 - 31s - loss: 1.5326 - accuracy: 0.4364 - val_loss: 1.5282 - val_accuracy: 0.4376\n",
      "\n",
      "Epoch 00085: val_accuracy did not improve from 0.43757\n",
      "Epoch 86/100\n",
      "95/95 - 38s - loss: 1.5326 - accuracy: 0.4364 - val_loss: 1.5282 - val_accuracy: 0.4376\n",
      "\n",
      "Epoch 00086: val_accuracy did not improve from 0.43757\n",
      "Epoch 87/100\n",
      "95/95 - 29s - loss: 1.5326 - accuracy: 0.4364 - val_loss: 1.5282 - val_accuracy: 0.4376\n",
      "\n",
      "Epoch 00087: val_accuracy did not improve from 0.43757\n",
      "Epoch 88/100\n",
      "95/95 - 26s - loss: 1.5326 - accuracy: 0.4364 - val_loss: 1.5282 - val_accuracy: 0.4376\n",
      "\n",
      "Epoch 00088: val_accuracy did not improve from 0.43757\n",
      "\n",
      "Epoch 00088: ReduceLROnPlateau reducing learning rate to 6.000000496442226e-09.\n",
      "Epoch 89/100\n",
      "95/95 - 26s - loss: 1.5326 - accuracy: 0.4364 - val_loss: 1.5282 - val_accuracy: 0.4376\n",
      "\n",
      "Epoch 00089: val_accuracy did not improve from 0.43757\n",
      "Epoch 90/100\n",
      "95/95 - 26s - loss: 1.5326 - accuracy: 0.4364 - val_loss: 1.5282 - val_accuracy: 0.4376\n",
      "\n",
      "Epoch 00090: val_accuracy did not improve from 0.43757\n",
      "Epoch 91/100\n",
      "95/95 - 25s - loss: 1.5326 - accuracy: 0.4364 - val_loss: 1.5282 - val_accuracy: 0.4376\n",
      "\n",
      "Epoch 00091: val_accuracy did not improve from 0.43757\n",
      "Epoch 92/100\n",
      "95/95 - 26s - loss: 1.6561 - accuracy: 0.4364 - val_loss: 1.5282 - val_accuracy: 0.4376\n",
      "\n",
      "Epoch 00092: val_accuracy did not improve from 0.43757\n",
      "Epoch 93/100\n",
      "95/95 - 26s - loss: 1.5326 - accuracy: 0.4364 - val_loss: 1.5282 - val_accuracy: 0.4376\n",
      "\n",
      "Epoch 00093: val_accuracy did not improve from 0.43757\n",
      "Epoch 94/100\n",
      "95/95 - 27s - loss: 1.5326 - accuracy: 0.4364 - val_loss: 1.5282 - val_accuracy: 0.4376\n",
      "\n",
      "Epoch 00094: val_accuracy did not improve from 0.43757\n",
      "Epoch 95/100\n",
      "95/95 - 25s - loss: 1.5326 - accuracy: 0.4364 - val_loss: 1.5282 - val_accuracy: 0.4376\n",
      "\n",
      "Epoch 00095: val_accuracy did not improve from 0.43757\n",
      "Epoch 96/100\n",
      "95/95 - 26s - loss: 1.9686 - accuracy: 0.4364 - val_loss: 1.5282 - val_accuracy: 0.4376\n",
      "\n",
      "Epoch 00096: val_accuracy did not improve from 0.43757\n",
      "Epoch 97/100\n",
      "95/95 - 27s - loss: 1.5326 - accuracy: 0.4364 - val_loss: 1.5282 - val_accuracy: 0.4376\n",
      "\n",
      "Epoch 00097: val_accuracy did not improve from 0.43757\n",
      "Epoch 98/100\n",
      "95/95 - 26s - loss: 1.5326 - accuracy: 0.4364 - val_loss: 1.5282 - val_accuracy: 0.4376\n",
      "\n",
      "Epoch 00098: val_accuracy did not improve from 0.43757\n",
      "\n",
      "Epoch 00098: ReduceLROnPlateau reducing learning rate to 6.000000496442226e-10.\n",
      "Epoch 99/100\n",
      "95/95 - 26s - loss: 1.5326 - accuracy: 0.4364 - val_loss: 1.5282 - val_accuracy: 0.4376\n",
      "\n",
      "Epoch 00099: val_accuracy did not improve from 0.43757\n",
      "Epoch 100/100\n",
      "95/95 - 26s - loss: 1.5326 - accuracy: 0.4364 - val_loss: 1.5282 - val_accuracy: 0.4376\n",
      "\n",
      "Epoch 00100: val_accuracy did not improve from 0.43757\n"
     ]
    }
   ],
   "source": [
    "history = model.fit(train_batches, validation_data= validation_batches,\n",
    "          epochs=100, shuffle=True, verbose=2, callbacks=[es,mc,lrl])\n",
    "\n",
    "y_pred_proba = model.predict(train_batches)\n",
    "y_pred = np.argmax(y_pred_proba)"
   ]
  },
  {
   "cell_type": "code",
   "execution_count": 21,
   "metadata": {
    "collapsed": false,
    "jupyter": {
     "outputs_hidden": false
    },
    "pycharm": {
     "name": "#%%\n"
    }
   },
   "outputs": [
    {
     "name": "stdout",
     "output_type": "stream",
     "text": [
      "Currently in directory:C:\\Users\\Hoofdgebruiker\\Desktop\\GNT-Arai-31\\challenge-mole\n",
      "File coming out of the function: ResNet50_training_0.6616_0.6704.h5\n"
     ]
    }
   ],
   "source": [
    "best_model = keep_best_saved_h5(\"/deployment/models/\",model_name,0.2)\n",
    "model = load_model(f\"deployment/models/{best_model}\")"
   ]
  },
  {
   "cell_type": "code",
   "execution_count": 23,
   "outputs": [
    {
     "name": "stdout",
     "output_type": "stream",
     "text": [
      "[[0.05603681 0.08787313 0.18501778 ... 0.18938473 0.4375416  0.02431787]\n",
      " [0.05603681 0.08787313 0.18501778 ... 0.18938473 0.4375416  0.02431787]\n",
      " [0.05603681 0.08787313 0.18501778 ... 0.18938473 0.4375416  0.02431787]\n",
      " ...\n",
      " [0.05603681 0.08787313 0.18501778 ... 0.18938473 0.4375416  0.02431787]\n",
      " [0.05603681 0.08787313 0.18501778 ... 0.18938473 0.4375416  0.02431787]\n",
      " [0.05603681 0.08787313 0.18501778 ... 0.18938473 0.4375416  0.02431787]]\n"
     ]
    }
   ],
   "source": [
    "print(y_pred_proba)"
   ],
   "metadata": {
    "collapsed": false,
    "pycharm": {
     "name": "#%%"
    }
   }
  },
  {
   "cell_type": "code",
   "execution_count": null,
   "outputs": [],
   "source": [],
   "metadata": {
    "collapsed": false,
    "pycharm": {
     "name": "#%%\n"
    }
   }
  }
 ],
 "metadata": {
  "kernelspec": {
   "name": "tensorflow",
   "language": "python",
   "display_name": "TensorFlow"
  },
  "language_info": {
   "codemirror_mode": {
    "name": "ipython",
    "version": 3
   },
   "file_extension": ".py",
   "mimetype": "text/x-python",
   "name": "python",
   "nbconvert_exporter": "python",
   "pygments_lexer": "ipython3",
   "version": "3.7.11"
  }
 },
 "nbformat": 4,
 "nbformat_minor": 4
}